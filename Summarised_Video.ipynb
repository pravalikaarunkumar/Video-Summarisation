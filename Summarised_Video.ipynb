{
  "nbformat": 4,
  "nbformat_minor": 0,
  "metadata": {
    "colab": {
      "provenance": [],
      "gpuType": "T4"
    },
    "kernelspec": {
      "name": "python3",
      "display_name": "Python 3"
    },
    "language_info": {
      "name": "python"
    },
    "accelerator": "GPU"
  },
  "cells": [
    {
      "cell_type": "code",
      "execution_count": 1,
      "metadata": {
        "colab": {
          "base_uri": "https://localhost:8080/"
        },
        "id": "xJ6R9QaY-lDz",
        "outputId": "01b21f97-4ed4-4b8c-c741-21bc5ab5dfa8"
      },
      "outputs": [
        {
          "output_type": "stream",
          "name": "stdout",
          "text": [
            "Collecting git+https://github.com/openai/CLIP.git\n",
            "  Cloning https://github.com/openai/CLIP.git to /tmp/pip-req-build-hrdlv0xv\n",
            "  Running command git clone --filter=blob:none --quiet https://github.com/openai/CLIP.git /tmp/pip-req-build-hrdlv0xv\n",
            "  Resolved https://github.com/openai/CLIP.git to commit dcba3cb2e2827b402d2701e7e1c7d9fed8a20ef1\n",
            "  Preparing metadata (setup.py) ... \u001b[?25l\u001b[?25hdone\n",
            "Collecting ffmpeg-python\n",
            "  Downloading ffmpeg_python-0.2.0-py3-none-any.whl.metadata (1.7 kB)\n",
            "Collecting whisper\n",
            "  Downloading whisper-1.1.10.tar.gz (42 kB)\n",
            "\u001b[2K     \u001b[90m━━━━━━━━━━━━━━━━━━━━━━━━━━━━━━━━━━━━━━━━\u001b[0m \u001b[32m42.8/42.8 kB\u001b[0m \u001b[31m2.8 MB/s\u001b[0m eta \u001b[36m0:00:00\u001b[0m\n",
            "\u001b[?25h  Preparing metadata (setup.py) ... \u001b[?25l\u001b[?25hdone\n",
            "Requirement already satisfied: openai in /usr/local/lib/python3.11/dist-packages (1.61.1)\n",
            "Requirement already satisfied: moviepy in /usr/local/lib/python3.11/dist-packages (1.0.3)\n",
            "\u001b[31mERROR: Could not find a version that satisfies the requirement pyscenedetect (from versions: none)\u001b[0m\u001b[31m\n",
            "\u001b[0m\u001b[31mERROR: No matching distribution found for pyscenedetect\u001b[0m\u001b[31m\n",
            "\u001b[0m"
          ]
        }
      ],
      "source": [
        "!pip install ffmpeg-python whisper openai moviepy pyscenedetect git+https://github.com/openai/CLIP.git"
      ]
    },
    {
      "cell_type": "code",
      "source": [
        "from google.colab import files\n",
        "\n",
        "video_path = \"/content/Lecture 5： Text Processing： Basics.mp4\"\n",
        "print(f\"Using video file: '{video_path}'\")\n",
        "# Step 3: Print the file path for confirmation\n",
        "print(f\"Uploaded video file: '{video_path}'\")\n"
      ],
      "metadata": {
        "colab": {
          "base_uri": "https://localhost:8080/"
        },
        "id": "p-sZCkMPAHL3",
        "outputId": "3223692e-8cae-4978-a788-a513dd29b4d8"
      },
      "execution_count": 2,
      "outputs": [
        {
          "output_type": "stream",
          "name": "stdout",
          "text": [
            "Using video file: '/content/Lecture 5： Text Processing： Basics.mp4'\n",
            "Uploaded video file: '/content/Lecture 5： Text Processing： Basics.mp4'\n"
          ]
        }
      ]
    },
    {
      "cell_type": "code",
      "source": [
        "!pip install -q whisper\n"
      ],
      "metadata": {
        "id": "Fv6SZTGKAv8p",
        "colab": {
          "base_uri": "https://localhost:8080/"
        },
        "outputId": "904ce583-cd11-4e28-ab42-4376ac0b3d0c"
      },
      "execution_count": 3,
      "outputs": [
        {
          "output_type": "stream",
          "name": "stdout",
          "text": [
            "  Preparing metadata (setup.py) ... \u001b[?25l\u001b[?25hdone\n",
            "  Building wheel for whisper (setup.py) ... \u001b[?25l\u001b[?25hdone\n"
          ]
        }
      ]
    },
    {
      "cell_type": "code",
      "source": [
        "!pip install -q git+https://github.com/openai/whisper.git\n"
      ],
      "metadata": {
        "colab": {
          "base_uri": "https://localhost:8080/"
        },
        "id": "BEJfNhw6A2c9",
        "outputId": "c016ced7-dc06-409e-86de-730d44bd3060"
      },
      "execution_count": 4,
      "outputs": [
        {
          "output_type": "stream",
          "name": "stdout",
          "text": [
            "  Installing build dependencies ... \u001b[?25l\u001b[?25hdone\n",
            "  Getting requirements to build wheel ... \u001b[?25l\u001b[?25hdone\n",
            "  Preparing metadata (pyproject.toml) ... \u001b[?25l\u001b[?25hdone\n",
            "\u001b[2K   \u001b[90m━━━━━━━━━━━━━━━━━━━━━━━━━━━━━━━━━━━━━━━━\u001b[0m \u001b[32m1.2/1.2 MB\u001b[0m \u001b[31m19.0 MB/s\u001b[0m eta \u001b[36m0:00:00\u001b[0m\n",
            "\u001b[2K   \u001b[90m━━━━━━━━━━━━━━━━━━━━━━━━━━━━━━━━━━━━━━━━\u001b[0m \u001b[32m363.4/363.4 MB\u001b[0m \u001b[31m4.7 MB/s\u001b[0m eta \u001b[36m0:00:00\u001b[0m\n",
            "\u001b[2K   \u001b[90m━━━━━━━━━━━━━━━━━━━━━━━━━━━━━━━━━━━━━━━━\u001b[0m \u001b[32m13.8/13.8 MB\u001b[0m \u001b[31m103.1 MB/s\u001b[0m eta \u001b[36m0:00:00\u001b[0m\n",
            "\u001b[2K   \u001b[90m━━━━━━━━━━━━━━━━━━━━━━━━━━━━━━━━━━━━━━━━\u001b[0m \u001b[32m24.6/24.6 MB\u001b[0m \u001b[31m57.3 MB/s\u001b[0m eta \u001b[36m0:00:00\u001b[0m\n",
            "\u001b[2K   \u001b[90m━━━━━━━━━━━━━━━━━━━━━━━━━━━━━━━━━━━━━━━━\u001b[0m \u001b[32m883.7/883.7 kB\u001b[0m \u001b[31m37.1 MB/s\u001b[0m eta \u001b[36m0:00:00\u001b[0m\n",
            "\u001b[2K   \u001b[90m━━━━━━━━━━━━━━━━━━━━━━━━━━━━━━━━━━━━━━━━\u001b[0m \u001b[32m664.8/664.8 MB\u001b[0m \u001b[31m2.2 MB/s\u001b[0m eta \u001b[36m0:00:00\u001b[0m\n",
            "\u001b[2K   \u001b[90m━━━━━━━━━━━━━━━━━━━━━━━━━━━━━━━━━━━━━━━━\u001b[0m \u001b[32m211.5/211.5 MB\u001b[0m \u001b[31m6.2 MB/s\u001b[0m eta \u001b[36m0:00:00\u001b[0m\n",
            "\u001b[2K   \u001b[90m━━━━━━━━━━━━━━━━━━━━━━━━━━━━━━━━━━━━━━━━\u001b[0m \u001b[32m56.3/56.3 MB\u001b[0m \u001b[31m12.3 MB/s\u001b[0m eta \u001b[36m0:00:00\u001b[0m\n",
            "\u001b[2K   \u001b[90m━━━━━━━━━━━━━━━━━━━━━━━━━━━━━━━━━━━━━━━━\u001b[0m \u001b[32m127.9/127.9 MB\u001b[0m \u001b[31m8.0 MB/s\u001b[0m eta \u001b[36m0:00:00\u001b[0m\n",
            "\u001b[2K   \u001b[90m━━━━━━━━━━━━━━━━━━━━━━━━━━━━━━━━━━━━━━━━\u001b[0m \u001b[32m207.5/207.5 MB\u001b[0m \u001b[31m6.5 MB/s\u001b[0m eta \u001b[36m0:00:00\u001b[0m\n",
            "\u001b[2K   \u001b[90m━━━━━━━━━━━━━━━━━━━━━━━━━━━━━━━━━━━━━━━━\u001b[0m \u001b[32m21.1/21.1 MB\u001b[0m \u001b[31m67.6 MB/s\u001b[0m eta \u001b[36m0:00:00\u001b[0m\n",
            "\u001b[?25h  Building wheel for openai-whisper (pyproject.toml) ... \u001b[?25l\u001b[?25hdone\n"
          ]
        }
      ]
    },
    {
      "cell_type": "code",
      "source": [
        "import whisper\n",
        "\n",
        "# Load Whisper model (medium-sized, can change to \"large\" for better results)\n",
        "model = whisper.load_model(\"medium\")\n",
        "\n",
        "# Transcribe video\n",
        "transcription = model.transcribe(video_path)\n",
        "text_segments = transcription[\"segments\"]\n",
        "\n",
        "# Save transcript to file\n",
        "with open(\"transcript.txt\", \"w\") as f:\n",
        "    for segment in text_segments:\n",
        "        f.write(f\"{segment['start']} --> {segment['end']}: {segment['text']}\\n\")\n",
        "\n",
        "print(\"Transcription done! Saved to transcript.txt\")\n"
      ],
      "metadata": {
        "colab": {
          "base_uri": "https://localhost:8080/"
        },
        "id": "aB_acujfAh1a",
        "outputId": "374c1dae-a61f-4b7e-b680-d203bded95f0"
      },
      "execution_count": 5,
      "outputs": [
        {
          "output_type": "stream",
          "name": "stderr",
          "text": [
            "100%|██████████████████████████████████████| 1.42G/1.42G [00:13<00:00, 110MiB/s]\n",
            "/usr/local/lib/python3.11/dist-packages/whisper/__init__.py:150: FutureWarning: You are using `torch.load` with `weights_only=False` (the current default value), which uses the default pickle module implicitly. It is possible to construct malicious pickle data which will execute arbitrary code during unpickling (See https://github.com/pytorch/pytorch/blob/main/SECURITY.md#untrusted-models for more details). In a future release, the default value for `weights_only` will be flipped to `True`. This limits the functions that could be executed during unpickling. Arbitrary objects will no longer be allowed to be loaded via this mode unless they are explicitly allowlisted by the user via `torch.serialization.add_safe_globals`. We recommend you start setting `weights_only=True` for any use case where you don't have full control of the loaded file. Please open an issue on GitHub for any issues related to this experimental feature.\n",
            "  checkpoint = torch.load(fp, map_location=device)\n"
          ]
        },
        {
          "output_type": "stream",
          "name": "stdout",
          "text": [
            "Transcription done! Saved to transcript.txt\n"
          ]
        }
      ]
    },
    {
      "cell_type": "code",
      "source": [
        "from sklearn.feature_extraction.text import TfidfVectorizer\n",
        "import numpy as np\n",
        "\n",
        "# Load summary text\n",
        "summary_text = \"The video discusses the importance of AI in healthcare and its applications.\"\n",
        "\n",
        "# Extract text and timestamps\n",
        "texts = [seg['text'] for seg in text_segments]\n",
        "timestamps = [(seg['start'], seg['end']) for seg in text_segments]\n",
        "\n",
        "# Vectorize text using TF-IDF\n",
        "vectorizer = TfidfVectorizer().fit(texts + [summary_text])\n",
        "text_vectors = vectorizer.transform(texts)\n",
        "summary_vector = vectorizer.transform([summary_text])\n",
        "\n",
        "# Compute similarity\n",
        "similarities = np.dot(text_vectors, summary_vector.T).toarray().flatten()\n",
        "top_matches = np.argsort(similarities)[-3:]  # Get top 3 matching segments\n",
        "\n",
        "# Get relevant timestamps\n",
        "selected_timestamps = [timestamps[i] for i in top_matches]\n",
        "print(\"Selected timestamps:\", selected_timestamps)\n"
      ],
      "metadata": {
        "colab": {
          "base_uri": "https://localhost:8080/"
        },
        "id": "fjKqpRifDm2t",
        "outputId": "1992398b-945e-466c-c83d-be79ac089958"
      },
      "execution_count": 6,
      "outputs": [
        {
          "output_type": "stream",
          "name": "stdout",
          "text": [
            "Selected timestamps: [(2267.48, 2274.48), (770.06, 777.06), (764.5799999999999, 770.06)]\n"
          ]
        }
      ]
    },
    {
      "cell_type": "code",
      "source": [
        "!apt-get update\n",
        "!apt-get install -y ffmpeg  # Install system ffmpeg\n",
        "!pip uninstall -y ffmpeg  # Uninstall broken ffmpeg package\n",
        "!pip install -q ffmpeg-python  # Install correct ffmpeg-python package\n"
      ],
      "metadata": {
        "colab": {
          "base_uri": "https://localhost:8080/"
        },
        "id": "lst76rzBEoSs",
        "outputId": "4c811bd2-bc72-4996-df2b-8d76d3a018b7"
      },
      "execution_count": 7,
      "outputs": [
        {
          "output_type": "stream",
          "name": "stdout",
          "text": [
            "\r0% [Working]\r            \rGet:1 https://developer.download.nvidia.com/compute/cuda/repos/ubuntu2204/x86_64  InRelease [1,581 B]\n",
            "\r0% [Connecting to archive.ubuntu.com (185.125.190.83)] [Connecting to security.ubuntu.com (91.189.91\r0% [Connecting to archive.ubuntu.com (185.125.190.83)] [Connecting to security.ubuntu.com (91.189.91\r                                                                                                    \rGet:2 https://cloud.r-project.org/bin/linux/ubuntu jammy-cran40/ InRelease [3,632 B]\n",
            "Get:3 http://security.ubuntu.com/ubuntu jammy-security InRelease [129 kB]\n",
            "Get:4 https://developer.download.nvidia.com/compute/cuda/repos/ubuntu2204/x86_64  Packages [1,317 kB]\n",
            "Hit:5 http://archive.ubuntu.com/ubuntu jammy InRelease\n",
            "Get:6 https://r2u.stat.illinois.edu/ubuntu jammy InRelease [6,555 B]\n",
            "Get:7 http://archive.ubuntu.com/ubuntu jammy-updates InRelease [128 kB]\n",
            "Hit:8 https://ppa.launchpadcontent.net/deadsnakes/ppa/ubuntu jammy InRelease\n",
            "Get:9 https://r2u.stat.illinois.edu/ubuntu jammy/main all Packages [8,692 kB]\n",
            "Get:10 http://security.ubuntu.com/ubuntu jammy-security/universe amd64 Packages [1,230 kB]\n",
            "Hit:11 https://ppa.launchpadcontent.net/graphics-drivers/ppa/ubuntu jammy InRelease\n",
            "Hit:12 https://ppa.launchpadcontent.net/ubuntugis/ppa/ubuntu jammy InRelease\n",
            "Get:13 http://security.ubuntu.com/ubuntu jammy-security/main amd64 Packages [2,610 kB]\n",
            "Get:14 http://archive.ubuntu.com/ubuntu jammy-backports InRelease [127 kB]\n",
            "Get:15 http://archive.ubuntu.com/ubuntu jammy-updates/main amd64 Packages [2,939 kB]\n",
            "Get:16 https://r2u.stat.illinois.edu/ubuntu jammy/main amd64 Packages [2,661 kB]\n",
            "Get:17 http://archive.ubuntu.com/ubuntu jammy-updates/universe amd64 Packages [1,526 kB]\n",
            "Get:18 http://archive.ubuntu.com/ubuntu jammy-updates/restricted amd64 Packages [3,793 kB]\n",
            "Fetched 25.2 MB in 3s (9,527 kB/s)\n",
            "Reading package lists... Done\n",
            "W: Skipping acquire of configured file 'main/source/Sources' as repository 'https://r2u.stat.illinois.edu/ubuntu jammy InRelease' does not seem to provide it (sources.list entry misspelt?)\n",
            "Reading package lists... Done\n",
            "Building dependency tree... Done\n",
            "Reading state information... Done\n",
            "ffmpeg is already the newest version (7:4.4.2-0ubuntu0.22.04.1).\n",
            "0 upgraded, 0 newly installed, 0 to remove and 30 not upgraded.\n",
            "\u001b[33mWARNING: Skipping ffmpeg as it is not installed.\u001b[0m\u001b[33m\n",
            "\u001b[0m"
          ]
        }
      ]
    },
    {
      "cell_type": "code",
      "source": [
        "!apt-get update\n",
        "!apt-get install -y ffmpeg  # Install system-level ffmpeg\n",
        "!pip uninstall -y ffmpeg ffmpeg-python  # Remove conflicting libraries\n",
        "!pip install -q ffmpeg-python  # Install the correct ffmpeg-python package\n"
      ],
      "metadata": {
        "id": "7X9xo1zdIDj_",
        "colab": {
          "base_uri": "https://localhost:8080/"
        },
        "outputId": "955ce96d-d163-4fba-c92e-7e8efd4870af"
      },
      "execution_count": 8,
      "outputs": [
        {
          "output_type": "stream",
          "name": "stdout",
          "text": [
            "\r0% [Working]\r            \rHit:1 https://developer.download.nvidia.com/compute/cuda/repos/ubuntu2204/x86_64  InRelease\n",
            "\r0% [Connecting to archive.ubuntu.com] [Connecting to security.ubuntu.com (91.189.91.81)] [Connected \r                                                                                                    \rHit:2 https://cloud.r-project.org/bin/linux/ubuntu jammy-cran40/ InRelease\n",
            "Hit:3 http://security.ubuntu.com/ubuntu jammy-security InRelease\n",
            "Hit:4 https://r2u.stat.illinois.edu/ubuntu jammy InRelease\n",
            "Hit:5 http://archive.ubuntu.com/ubuntu jammy InRelease\n",
            "Hit:6 http://archive.ubuntu.com/ubuntu jammy-updates InRelease\n",
            "Hit:7 http://archive.ubuntu.com/ubuntu jammy-backports InRelease\n",
            "Hit:8 https://ppa.launchpadcontent.net/deadsnakes/ppa/ubuntu jammy InRelease\n",
            "Hit:9 https://ppa.launchpadcontent.net/graphics-drivers/ppa/ubuntu jammy InRelease\n",
            "Hit:10 https://ppa.launchpadcontent.net/ubuntugis/ppa/ubuntu jammy InRelease\n",
            "Reading package lists... Done\n",
            "W: Skipping acquire of configured file 'main/source/Sources' as repository 'https://r2u.stat.illinois.edu/ubuntu jammy InRelease' does not seem to provide it (sources.list entry misspelt?)\n",
            "Reading package lists... Done\n",
            "Building dependency tree... Done\n",
            "Reading state information... Done\n",
            "ffmpeg is already the newest version (7:4.4.2-0ubuntu0.22.04.1).\n",
            "0 upgraded, 0 newly installed, 0 to remove and 30 not upgraded.\n",
            "\u001b[33mWARNING: Skipping ffmpeg as it is not installed.\u001b[0m\u001b[33m\n",
            "\u001b[0mFound existing installation: ffmpeg-python 0.2.0\n",
            "Uninstalling ffmpeg-python-0.2.0:\n",
            "  Successfully uninstalled ffmpeg-python-0.2.0\n"
          ]
        }
      ]
    },
    {
      "cell_type": "code",
      "source": [
        "import subprocess\n",
        "\n",
        "# Define video path and output file\n",
        "video_path = \"/content/Lecture 5： Text Processing： Basics.mp4\"\n",
        "output_file = \"/content/summary_video.mp4\"\n",
        "\n",
        "# Define timestamps (start, end) in seconds\n",
        "selected_timestamps = [(93.4, 104.4),(34.0, 45.84), (45.84, 55.48), (2198.56, 2274.48)]\n",
        "\n",
        "# FFmpeg command to extract and merge clips\n",
        "ffmpeg_command = [\"ffmpeg\", \"-y\", \"-i\", video_path]\n",
        "\n",
        "filter_complex = []\n",
        "for i, (start, end) in enumerate(selected_timestamps):\n",
        "    filter_complex.append(f\"[0:v]trim=start={start}:end={end},setpts=PTS-STARTPTS[v{i}];\")\n",
        "    filter_complex.append(f\"[0:a]atrim=start={start}:end={end},asetpts=PTS-STARTPTS[a{i}];\")\n",
        "\n",
        "# Concatenate all segments\n",
        "concat_filter = \"\".join([f\"[v{i}][a{i}]\" for i in range(len(selected_timestamps))])\n",
        "filter_complex.append(f\"{concat_filter}concat=n={len(selected_timestamps)}:v=1:a=1[outv][outa]\")\n",
        "\n",
        "ffmpeg_command.extend([\"-filter_complex\", \"\".join(filter_complex), \"-map\", \"[outv]\", \"-map\", \"[outa]\", \"-c:v\", \"libx264\", \"-crf\", \"23\", \"-preset\", \"fast\", output_file])\n",
        "\n",
        "# Run FFmpeg command using subprocess\n",
        "try:\n",
        "    subprocess.run(ffmpeg_command, check=True)\n",
        "    print(f\"✅ Summary video created successfully: {output_file}\")\n",
        "except subprocess.CalledProcessError as e:\n",
        "    print(\"⚠️ Error running FFmpeg.\")\n",
        "    print(e)\n"
      ],
      "metadata": {
        "colab": {
          "base_uri": "https://localhost:8080/"
        },
        "id": "KtH0mgbzHRJw",
        "outputId": "077dae2e-1de5-4c46-fde8-7521b57e71d9"
      },
      "execution_count": 10,
      "outputs": [
        {
          "output_type": "stream",
          "name": "stdout",
          "text": [
            "✅ Summary video created successfully: /content/summary_video.mp4\n"
          ]
        }
      ]
    },
    {
      "cell_type": "code",
      "source": [
        "from google.colab import files\n",
        "files.download(\"/content/summary_video.mp4\")\n"
      ],
      "metadata": {
        "id": "eEQ65DiKICb9"
      },
      "execution_count": null,
      "outputs": []
    },
    {
      "cell_type": "code",
      "source": [
        "import subprocess\n",
        "\n",
        "# Define video path and output file\n",
        "video_path = \"/content/Lecture 5： Text Processing： Basics.mp4\"\n",
        "output_file = \"/content/summary_video.mp4\"\n",
        "\n",
        "# Define timestamps (start, end) in seconds\n",
        "selected_timestamps = [(93.4, 104.4), (34.0, 45.84), (45.84, 55.48), (2198.56, 2274.48)]\n",
        "\n",
        "# Extract individual clips and store paths\n",
        "clip_files = []\n",
        "for i, (start, end) in enumerate(selected_timestamps):\n",
        "    clip_file = f\"/content/clip_{i}.mp4\"\n",
        "    clip_files.append(clip_file)\n",
        "\n",
        "    cmd = [\n",
        "        \"ffmpeg\", \"-y\", \"-i\", video_path,\n",
        "        \"-ss\", str(start), \"-to\", str(end),\n",
        "        \"-c\", \"copy\", clip_file\n",
        "    ]\n",
        "    subprocess.run(cmd, check=True)\n",
        "\n",
        "# Create a text file listing all clips for concatenation\n",
        "list_file = \"/content/clips.txt\"\n",
        "with open(list_file, \"w\") as f:\n",
        "    for clip in clip_files:\n",
        "        f.write(f\"file '{clip}'\\n\")\n",
        "\n",
        "# Merge clips using FFmpeg concat\n",
        "concat_cmd = [\n",
        "    \"ffmpeg\", \"-y\", \"-f\", \"concat\", \"-safe\", \"0\", \"-i\", list_file,\n",
        "    \"-c\", \"copy\", output_file\n",
        "]\n",
        "\n",
        "try:\n",
        "    subprocess.run(concat_cmd, check=True)\n",
        "    print(f\"✅ Summary video created successfully: {output_file}\")\n",
        "except subprocess.CalledProcessError as e:\n",
        "    print(\"⚠️ Error running FFmpeg.\")\n",
        "    print(e)\n"
      ],
      "metadata": {
        "colab": {
          "base_uri": "https://localhost:8080/"
        },
        "id": "GXUnUTSPLssV",
        "outputId": "004875ed-65d6-4f6f-9bc9-b74332093660"
      },
      "execution_count": 12,
      "outputs": [
        {
          "output_type": "stream",
          "name": "stdout",
          "text": [
            "✅ Summary video created successfully: /content/summary_video.mp4\n"
          ]
        }
      ]
    },
    {
      "cell_type": "code",
      "source": [
        "import subprocess\n",
        "\n",
        "# Define video path and output file\n",
        "video_path = \"/content/Lecture 5： Text Processing： Basics.mp4\"\n",
        "output_file = \"/content/summary_video1.mp4\"\n",
        "\n",
        "# Define timestamps (start, end) in seconds\n",
        "selected_timestamps = [\n",
        "    (0.0, 23.44), (76.52, 93.40), (93.40, 141.28), (149.0, 184.88),\n",
        "    (189.76, 215.64), (281.32, 322.36), (327.76, 360.32), (400.40, 405.80),\n",
        "    (916.38, 983.90), (1000.62, 1103.30), (1303.94, 1331.14), (1351.70, 1399.82),\n",
        "    (1411.34, 1492.06), (1863.69, 1968.04), (2006.32, 2093.84), (2287.88, 2294.88)\n",
        "]\n",
        "\n",
        "# Extract individual clips and store paths\n",
        "clip_files = []\n",
        "for i, (start, end) in enumerate(selected_timestamps):\n",
        "    clip_file = f\"/content/clips_{i}.mp4\"\n",
        "    clip_files.append(clip_file)\n",
        "\n",
        "    cmd = [\n",
        "        \"ffmpeg\", \"-y\", \"-i\", video_path,\n",
        "        \"-ss\", str(start), \"-to\", str(end),\n",
        "        \"-c\", \"copy\", clip_file\n",
        "    ]\n",
        "    subprocess.run(cmd, check=True)\n",
        "\n",
        "# Create a text file listing all clips for concatenation\n",
        "list_file = \"/content/clips.txt\"\n",
        "with open(list_file, \"w\") as f:\n",
        "    for clip in clip_files:\n",
        "        f.write(f\"file '{clip}'\\n\")\n",
        "\n",
        "# Merge clips using FFmpeg concat\n",
        "concat_cmd = [\n",
        "    \"ffmpeg\", \"-y\", \"-f\", \"concat\", \"-safe\", \"0\", \"-i\", list_file,\n",
        "    \"-c\", \"copy\", output_file\n",
        "]\n",
        "\n",
        "try:\n",
        "    subprocess.run(concat_cmd, check=True)\n",
        "    print(f\"✅ Summary video created successfully: {output_file}\")\n",
        "except subprocess.CalledProcessError as e:\n",
        "    print(\"⚠️ Error running FFmpeg.\")\n",
        "    print(e)\n"
      ],
      "metadata": {
        "colab": {
          "base_uri": "https://localhost:8080/"
        },
        "id": "ajuEnqHzMt3J",
        "outputId": "7b50a962-1feb-4dcc-e28d-8c300be73cf0"
      },
      "execution_count": 13,
      "outputs": [
        {
          "output_type": "stream",
          "name": "stdout",
          "text": [
            "✅ Summary video created successfully: /content/summary_video1.mp4\n"
          ]
        }
      ]
    },
    {
      "cell_type": "code",
      "source": [
        "import subprocess\n",
        "\n",
        "# Define video path and output file\n",
        "video_path = \"/content/Lecture 5： Text Processing： Basics.mp4\"\n",
        "output_file = \"/content/summary_video1.mp4\"\n",
        "\n",
        "# Define timestamps (start, end) in seconds\n",
        "selected_timestamps = [\n",
        "    (93.40, 141.28),   # Tokenization: Breaking text into manageable pieces\n",
        "    (916.38, 983.90),  # Stopword removal: Filtering common words\n",
        "    (1863.69, 1968.04), # Lemmatization vs. stemming: Context-aware word processing\n",
        "    (1000.62, 1103.30), # Named Entity Recognition (NER): Identifying entities in text\n",
        "    (327.76, 360.32)   # POS tagging: Understanding syntactic structure\n",
        "]\n",
        "\n",
        "\n",
        "# Extract individual clips and store paths\n",
        "clip_files = []\n",
        "for i, (start, end) in enumerate(selected_timestamps):\n",
        "    clip_file = f\"/content/clips_{i}.mp4\"\n",
        "    clip_files.append(clip_file)\n",
        "\n",
        "    cmd = [\n",
        "        \"ffmpeg\", \"-y\", \"-i\", video_path,\n",
        "        \"-ss\", str(start), \"-to\", str(end),\n",
        "        \"-c\", \"copy\", clip_file\n",
        "    ]\n",
        "    subprocess.run(cmd, check=True)\n",
        "\n",
        "# Create a text file listing all clips for concatenation\n",
        "list_file = \"/content/clips.txt\"\n",
        "with open(list_file, \"w\") as f:\n",
        "    for clip in clip_files:\n",
        "        f.write(f\"file '{clip}'\\n\")\n",
        "\n",
        "# Merge clips using FFmpeg concat\n",
        "concat_cmd = [\n",
        "    \"ffmpeg\", \"-y\", \"-f\", \"concat\", \"-safe\", \"0\", \"-i\", list_file,\n",
        "    \"-c\", \"copy\", output_file\n",
        "]\n",
        "\n",
        "try:\n",
        "    subprocess.run(concat_cmd, check=True)\n",
        "    print(f\"✅ Summary video created successfully: {output_file}\")\n",
        "except subprocess.CalledProcessError as e:\n",
        "    print(\"⚠️ Error running FFmpeg.\")\n",
        "    print(e)\n"
      ],
      "metadata": {
        "colab": {
          "base_uri": "https://localhost:8080/"
        },
        "id": "IfEjVYwjM-wS",
        "outputId": "29932d7f-50ff-4877-f3ab-c6132985fd64"
      },
      "execution_count": 14,
      "outputs": [
        {
          "output_type": "stream",
          "name": "stdout",
          "text": [
            "✅ Summary video created successfully: /content/summary_video1.mp4\n"
          ]
        }
      ]
    }
  ]
}